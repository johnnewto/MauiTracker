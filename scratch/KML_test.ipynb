{
 "cells": [
  {
   "cell_type": "code",
   "execution_count": null,
   "metadata": {
    "collapsed": true
   },
   "outputs": [],
   "source": []
  },
  {
   "cell_type": "code",
   "execution_count": 1,
   "outputs": [],
   "source": [
    "%reload_ext autoreload\n",
    "%autoreload 2\n",
    "%matplotlib inline"
   ],
   "metadata": {
    "collapsed": false,
    "pycharm": {
     "name": "#%%\n"
    }
   }
  },
  {
   "cell_type": "code",
   "execution_count": 2,
   "outputs": [],
   "source": [
    "import simplekml as sk\n",
    "from polycircles import polycircles\n",
    "import subprocess\n",
    "from latlon import LatLon, Latitude, Longitude\n",
    "import pandas as pd"
   ],
   "metadata": {
    "collapsed": false,
    "pycharm": {
     "name": "#%%\n"
    }
   }
  },
  {
   "cell_type": "code",
   "execution_count": 13,
   "outputs": [
    {
     "data": {
      "text/plain": "<simplekml.featgeom.Point at 0x7fedd1fca2b0>"
     },
     "execution_count": 13,
     "metadata": {},
     "output_type": "execute_result"
    }
   ],
   "source": [
    "def kml_circle(name, kml, latitude=-37.291465, longitude=174.653884, altitude=120, radius=10000, number_of_vertices=60, label_at=0, color=sk.Color.purple):\n",
    "    polycircle = polycircles.Polycircle(latitude, longitude, radius, number_of_vertices)\n",
    "    coords = polycircle.to_kml()\n",
    "    coords = [(c[0], c[1], altitude) for c in coords]\n",
    "    # cir_kml = sk.Kml()\n",
    "    circle = kml.newlinestring(name=name)\n",
    "    circle.coords = coords\n",
    "    circle.style.polystyle.color = sk.Color.changealphaint(100, color)\n",
    "    circle.polystyle.outline = 0\n",
    "    circle.linestyle.color = sk.Color.changealphaint(200, color)\n",
    "    circle.linestyle.width = 2\n",
    "    circle.altitudemode = sk.AltitudeMode.relativetoground\n",
    "    circle.extrude = 1\n",
    "    pnt = kml.newpoint(name=name)\n",
    "    pnt.coords = [coords[label_at]]\n",
    "    pnt.style.labelstyle.color = color  # Make the text red\n",
    "    pnt.style.labelstyle.scale = 1\n",
    "    pnt.altitudemode = sk.AltitudeMode.relativetoground\n",
    "    pnt.style.iconstyle.icon.href = 'http://maps.google.com/mapfiles/kml/paddle/purple-diamond.png'\n",
    "\n",
    "kml = sk.Kml()\n",
    "kml_circle('C2 Link', kml, radius=30000, altitude=5000, label_at=50)\n",
    "kml.save(\"../kml/circle.kml\", format=0)\n",
    "\n",
    "kml.newpoint()"
   ],
   "metadata": {
    "collapsed": false,
    "pycharm": {
     "name": "#%%\n"
    }
   }
  },
  {
   "cell_type": "code",
   "execution_count": 4,
   "outputs": [],
   "source": [
    "latitude=-37.291465\n",
    "longitude=174.653884\n",
    "\n"
   ],
   "metadata": {
    "collapsed": false,
    "pycharm": {
     "name": "#%%\n"
    }
   }
  },
  {
   "cell_type": "code",
   "execution_count": 42,
   "outputs": [],
   "source": [
    "def kml_flight_Path(name, kml=None, coords=None, latitude=-37.291465, longitude=174.653884, altitude=0, heading=0, scale=1, label_at=None, color=sk.Color.green):\n",
    "    if kml is None:\n",
    "        kml = sk.Kml()\n",
    "    if coords is None:\n",
    "        coords = [(0, 0), (0, 1), (-90, 1), (180, 1), (90, 1), ]\n",
    "\n",
    "    start = LatLon(Latitude(latitude), Longitude(longitude))\n",
    "    for i, c in enumerate(coords):\n",
    "        coords[i] = start.offset(c[0]+heading, c[1]*scale)\n",
    "        start = coords[i]\n",
    "    coords = [(c.lon.decimal_degree, c.lat.decimal_degree, altitude) for c in coords]\n",
    "    if label_at is None:\n",
    "        label_at = len(coords)//2\n",
    "    f_path  = kml.newlinestring(name=name)\n",
    "    f_path.coords = coords\n",
    "    f_path.style.polystyle.color = sk.Color.changealphaint(100, color)\n",
    "    f_path.polystyle.outline = 0\n",
    "    f_path.linestyle.color = sk.Color.changealphaint(200, color)\n",
    "    f_path.linestyle.width = 3\n",
    "    f_path.altitudemode = sk.AltitudeMode.relativetoground\n",
    "    f_path.extrude = 1\n",
    "    pnt = kml.newpoint(name=name)\n",
    "    pnt.coords = [coords[label_at]]\n",
    "    pnt.style.labelstyle.color = color  # Make the text red\n",
    "    pnt.style.labelstyle.scale = 1\n",
    "    pnt.altitudemode = sk.AltitudeMode.relativetoground\n",
    "    pnt.style.iconstyle.icon.href = 'http://maps.google.com/mapfiles/kml/paddle/purple-diamond.png'\n",
    "    return kml"
   ],
   "metadata": {
    "collapsed": false,
    "pycharm": {
     "name": "#%%\n"
    }
   }
  },
  {
   "cell_type": "code",
   "execution_count": 45,
   "outputs": [],
   "source": [
    "flight_path = [(0, 0),  (-90, 1), (0, 10), (-90, 0.5), ]\n",
    "for i in range(10):\n",
    "    flight_path += [(180, 20), (-90, 0.5), (0, 20), (-90, 0.5),]\n",
    "flight_path += [(180, 10), (90, 0.5*20),]\n",
    "\n",
    "\n",
    "kml = kml_flight_Path('Flight Path',  coords=flight_path, altitude=120, heading=-23, scale=1, label_at=-2,)\n",
    "kml.save(\"../kml/FlightPath.kml\", format=0)"
   ],
   "metadata": {
    "collapsed": false,
    "pycharm": {
     "name": "#%%\n"
    }
   }
  },
  {
   "cell_type": "code",
   "execution_count": 4,
   "outputs": [
    {
     "name": "stdout",
     "output_type": "stream",
     "text": [
      "11.364761054348097\n",
      "-37.38942335388741, 174.69124649547507\n"
     ]
    },
    {
     "data": {
      "text/plain": "<simplekml.featgeom.Point at 0x7f2e77bceeb0>"
     },
     "execution_count": 4,
     "metadata": {},
     "output_type": "execute_result"
    }
   ],
   "source": [
    "kariotahi = LatLon(Latitude(-37.291465), Longitude(174.653884))\n",
    "airstrip  = LatLon(Latitude(-37.193505), Longitude(174.616570))\n",
    "distance = kariotahi.distance(airstrip)\n",
    "print(distance)\n",
    "vector = (kariotahi - airstrip) * 2\n",
    "\n",
    "print(kariotahi + (vector / 2.0))\n",
    "# print(palmyra.distance(honolulu, ellipse = 'sphere')) # FAI distance in km\n",
    "#\n",
    "# initial_heading = palmyra.heading_initial(honolulu) # Heading from Palmyra to Honolulu on WGS84 ellipsoid\n",
    "# print(initial_heading)\n",
    "#\n",
    "# hnl = palmyra.offset(initial_heading, distance) # Reconstruct Honolulu based on offset from Palmyra\n",
    "# print(hnl.to_string('D'))\n",
    "\n"
   ],
   "metadata": {
    "collapsed": false,
    "pycharm": {
     "name": "#%%\n"
    }
   }
  },
  {
   "cell_type": "code",
   "execution_count": null,
   "outputs": [],
   "source": [
    "# C2 link\n",
    "# plot a circle\n",
    "polycircle = polycircles.Polycircle(latitude=-37.291465, longitude=174.653884, radius=10000, number_of_vertices=60)\n",
    "coords = polycircle.to_kml()\n",
    "coords = [(c[0], c[1], 200) for c in coords]"
   ],
   "metadata": {
    "collapsed": false,
    "pycharm": {
     "name": "#%%\n"
    }
   }
  },
  {
   "cell_type": "code",
   "execution_count": 24,
   "outputs": [],
   "source": [
    "cir_kml = sk.Kml()\n",
    "circle = cir_kml.newlinestring(name='C2 Link')\n",
    "circle.coords = coords\n",
    "circle.style.polystyle.color = sk.Color.changealphaint(100, sk.Color.purple)\n",
    "circle.polystyle.outline = 0\n",
    "# circle.style.linestyle = sk.Color.changealphaint(100, sk.Color.purple)\n",
    "circle.linestyle.color = sk.Color.changealphaint(200, sk.Color.purple)\n",
    "circle.linestyle.width = 2\n",
    "# circle.linestyle = ls.style.linestyle.color = sk.Color.blue\n",
    "    # sk.Color.changealphaint(100, sk.Color.purple)\n",
    "circle.altitudemode = sk.AltitudeMode.relativetoground\n",
    "circle.extrude = 1\n",
    "cir_kml.save(\"../kml/circle.kml\", format=0)\n",
    "# cir_kml.save()"
   ],
   "metadata": {
    "collapsed": false,
    "pycharm": {
     "name": "#%%\n"
    }
   }
  },
  {
   "cell_type": "code",
   "execution_count": 14,
   "outputs": [
    {
     "data": {
      "text/plain": "'64800080'"
     },
     "execution_count": 14,
     "metadata": {},
     "output_type": "execute_result"
    }
   ],
   "source": [
    "sk.Color.changealphaint(100, sk.Color.purple)\n",
    "sk.LineStyle()"
   ],
   "metadata": {
    "collapsed": false,
    "pycharm": {
     "name": "#%%\n"
    }
   }
  },
  {
   "cell_type": "code",
   "execution_count": 29,
   "outputs": [
    {
     "data": {
      "text/plain": "0"
     },
     "execution_count": 29,
     "metadata": {},
     "output_type": "execute_result"
    }
   ],
   "source": [
    "pnt_kml = simplekml.Kml()\n",
    "pnt_kml.newpoint(name='San Diego Zoo', coords=[(-116.995704, 33.097877)])\n",
    "filename = 'point_kml2.kml'\n",
    "pnt_kml.save(filename)\n",
    "subprocess.call(['/opt/google/earth/pro/google-earth-pro', '/home/jn/PycharmProjects/MauiTracker/scratch/point_kml2.kml'])"
   ],
   "metadata": {
    "collapsed": false,
    "pycharm": {
     "name": "#%%\n"
    }
   }
  },
  {
   "cell_type": "code",
   "execution_count": 34,
   "outputs": [
    {
     "data": {
      "text/plain": "<Popen: returncode: None args: ['/opt/google/earth/pro/googleearth', '/home/...>"
     },
     "execution_count": 34,
     "metadata": {},
     "output_type": "execute_result"
    }
   ],
   "source": [
    "pnt_kml.save('point_kml2.kml')\n",
    "subprocess.Popen(['/opt/google/earth/pro/googleearth', '/home/jn/PycharmProjects/MauiTracker/scratch/point_kml2.kml'])\n",
    "\n"
   ],
   "metadata": {
    "collapsed": false,
    "pycharm": {
     "name": "#%%\n"
    }
   }
  },
  {
   "cell_type": "code",
   "execution_count": 44,
   "outputs": [],
   "source": [
    "import simplekml\n",
    "kml = simplekml.Kml()\n",
    "pnt = kml.newpoint(name='Kariotahi', coords=[(174.653884, -37.281465)])\n",
    "pnt.camera.latitude = -37.291465\n",
    "pnt.camera.longitude = 174.653884\n",
    "pnt.camera.altitude = 10000\n",
    "pnt.camera.tilt = 45\n",
    "pnt.camera.heading = 0\n",
    "pnt.camera.roll = 0\n",
    "pnt.camera.altitudemode = simplekml.AltitudeMode.relativetoground\n",
    "# pnt.save(\"../kml/Camera.kml\")\n",
    "kml.save(\"../kml/Camera.kml\")"
   ],
   "metadata": {
    "collapsed": false,
    "pycharm": {
     "name": "#%%\n"
    }
   }
  },
  {
   "cell_type": "code",
   "execution_count": 40,
   "outputs": [
    {
     "ename": "AttributeError",
     "evalue": "'Kml' object has no attribute 'camera'",
     "output_type": "error",
     "traceback": [
      "\u001B[0;31m---------------------------------------------------------------------------\u001B[0m",
      "\u001B[0;31mAttributeError\u001B[0m                            Traceback (most recent call last)",
      "\u001B[0;32m/tmp/ipykernel_29319/315512095.py\u001B[0m in \u001B[0;36m<module>\u001B[0;34m\u001B[0m\n\u001B[1;32m      1\u001B[0m \u001B[0mkmlpnt\u001B[0m \u001B[0;34m=\u001B[0m \u001B[0msimplekml\u001B[0m\u001B[0;34m.\u001B[0m\u001B[0mKml\u001B[0m\u001B[0;34m(\u001B[0m\u001B[0;34m)\u001B[0m\u001B[0;34m\u001B[0m\u001B[0;34m\u001B[0m\u001B[0m\n\u001B[1;32m      2\u001B[0m \u001B[0mkmlpnt\u001B[0m\u001B[0;34m.\u001B[0m\u001B[0mnewpoint\u001B[0m\u001B[0;34m(\u001B[0m\u001B[0mname\u001B[0m\u001B[0;34m=\u001B[0m\u001B[0;34m'Kariotahi'\u001B[0m\u001B[0;34m,\u001B[0m \u001B[0mcoords\u001B[0m\u001B[0;34m=\u001B[0m\u001B[0;34m[\u001B[0m\u001B[0;34m(\u001B[0m\u001B[0;34m-\u001B[0m\u001B[0;36m37.281465\u001B[0m\u001B[0;34m,\u001B[0m \u001B[0;36m174.653884\u001B[0m\u001B[0;34m)\u001B[0m\u001B[0;34m]\u001B[0m\u001B[0;34m)\u001B[0m\u001B[0;34m\u001B[0m\u001B[0;34m\u001B[0m\u001B[0m\n\u001B[0;32m----> 3\u001B[0;31m \u001B[0mkmlpnt\u001B[0m\u001B[0;34m.\u001B[0m\u001B[0mcamera\u001B[0m\u001B[0;34m.\u001B[0m\u001B[0mlatitude\u001B[0m \u001B[0;34m=\u001B[0m \u001B[0;34m-\u001B[0m\u001B[0;36m37.291465\u001B[0m\u001B[0;34m\u001B[0m\u001B[0;34m\u001B[0m\u001B[0m\n\u001B[0m\u001B[1;32m      4\u001B[0m \u001B[0mkmlpnt\u001B[0m\u001B[0;34m.\u001B[0m\u001B[0mcamera\u001B[0m\u001B[0;34m.\u001B[0m\u001B[0mlongitude\u001B[0m \u001B[0;34m=\u001B[0m \u001B[0;36m174.653884\u001B[0m\u001B[0;34m\u001B[0m\u001B[0;34m\u001B[0m\u001B[0m\n\u001B[1;32m      5\u001B[0m \u001B[0mkmlpnt\u001B[0m\u001B[0;34m.\u001B[0m\u001B[0mcamera\u001B[0m\u001B[0;34m.\u001B[0m\u001B[0maltitude\u001B[0m \u001B[0;34m=\u001B[0m \u001B[0;36m10000\u001B[0m\u001B[0;34m\u001B[0m\u001B[0;34m\u001B[0m\u001B[0m\n",
      "\u001B[0;31mAttributeError\u001B[0m: 'Kml' object has no attribute 'camera'"
     ]
    }
   ],
   "source": [
    "kmlpnt = simplekml.Kml()\n",
    "kmlpnt.newpoint(name='Kariotahi', coords=[(-37.281465, 174.653884)])\n",
    "kmlpnt.camera.latitude = -37.291465\n",
    "kmlpnt.camera.longitude = 174.653884\n",
    "kmlpnt.camera.altitude = 10000\n",
    "kmlpnt.camera.tilt = 45\n",
    "kmlpnt.camera.heading = 0\n",
    "kmlpnt.camera.roll = 0\n",
    "kmlpnt.camera.altitudemode = simplekml.AltitudeMode.relativetoground\n",
    "kmlpnt.save(\"../kml/Camera.kml\")\n",
    "\n"
   ],
   "metadata": {
    "collapsed": false,
    "pycharm": {
     "name": "#%%\n"
    }
   }
  },
  {
   "cell_type": "code",
   "execution_count": null,
   "outputs": [],
   "source": [
    "from simplekml import Kml, Color\n",
    "kml = Kml(open=1)\n",
    "\n",
    "kml = simplekml.Kml(open=1)\n",
    "\n",
    "# Creating MultiGeometry\n",
    "multipnt = kml.newmultigeometry(name=\"MultiPoint\") # SA (Hartebeeshoek94) Grid Intersections\n",
    "multilin = kml.newmultigeometry(name=\"MultiLine\") # SA (Hartebeeshoek94) Lo. Lines\n",
    "multipolodd = kml.newmultigeometry(name=\"MultiPolyOdd\") # SA (Hartebeeshoek94) Lo. Regions\n",
    "multipoleven = kml.newmultigeometry(name=\"MultiPolyEven\") # SA (Hartebeeshoek94) Second Lo. Regions for styling\n",
    "lolabels = kml.newfolder(name=\"Lo. Regions\") # The labels of the Lo. Regions (17-33)\n",
    "\n",
    "# Create all the coordinates to populate the South African Coordinate System\n",
    "polycoordsodd = []\n",
    "polycoordseven = []\n",
    "firstrun = True\n",
    "for x in range(16, 36, 2):\n",
    "    linecoords = []\n",
    "    if x < 34: # Label region\n",
    "        lo = lolabels.newpoint(name=str(x+1), coords=[(x+1, -29)])\n",
    "        lo.style.iconstyle.icon.href = \"\" # Remove the icons\n",
    "    for y in range(-35, -19, 2):\n",
    "        multipnt.newpoint(coords=[(x, y)])\n",
    "        linecoords.append((x,y))\n",
    "    multilin.newlinestring(coords=linecoords)\n",
    "    polycoordsodd.append(linecoords)\n",
    "    if len(polycoordsodd) == 2:\n",
    "        end = polycoordsodd[1][:]\n",
    "        end.reverse()\n",
    "        multipolodd.newpolygon(outerboundaryis=polycoordsodd[0]+end)\n",
    "        polycoordsodd = []\n",
    "    if firstrun:\n",
    "        firstrun = False\n",
    "    else:\n",
    "        polycoordseven.append(linecoords)\n",
    "        if len(polycoordseven) == 2:\n",
    "            end = polycoordseven[1][:]\n",
    "            end.reverse()\n",
    "            multipoleven.newpolygon(outerboundaryis=polycoordseven[0]+end)\n",
    "            polycoordseven = []\n",
    "\n",
    "# Style everything\n",
    "multipnt.style.labelstyle.scale = 0.0 # Hide the labels of the points\n",
    "multipnt.style.iconstyle.icon.href = \"http://maps.google.com/mapfiles/kml/shapes/placemark_circle.png\"\n",
    "multilin.style.linestyle.color = Color.black\n",
    "multilin.style.linestyle.width = 5\n",
    "multipoleven.style.polystyle.color = Color.changealpha(\"77\", Color.orange)\n",
    "multipoleven.style.linestyle.color = Color.changealpha(\"77\", Color.orange)\n",
    "multipolodd.style.polystyle.color = Color.changealpha(\"77\", Color.lightblue)\n",
    "multipolodd.style.linestyle.color = Color.changealpha(\"77\", Color.lightblue)\n",
    "\n",
    "kml.save(\"../kml/Tut_MultiGeometry.kml\")"
   ],
   "metadata": {
    "collapsed": false,
    "pycharm": {
     "name": "#%%\n"
    }
   }
  },
  {
   "cell_type": "code",
   "execution_count": 47,
   "outputs": [],
   "source": [
    "import os\n",
    "import simplekml\n",
    "\n",
    "# Create an instance of Kml\n",
    "kml = simplekml.Kml(open=1)\n",
    "\n",
    "# Create a linestring with two points (ie. a line)\n",
    "linestring = kml.newlinestring(name=\"A Line\")\n",
    "linestring.coords = [(-122.364383,37.824664),(-122.364152,37.824322)]\n",
    "\n",
    "# Create a linestring that will hover 50m above the ground\n",
    "linestring = kml.newlinestring(name=\"A Hovering Line\")\n",
    "linestring.coords = [(-122.364167,37.824787,50), (-122.363917,37.824423,50)]\n",
    "linestring.altitudemode = simplekml.AltitudeMode.relativetoground\n",
    "\n",
    "# Create a linestring that will hover 100m above the ground that is extended to the ground\n",
    "linestring = kml.newlinestring(name=\"An Extended Line\")\n",
    "linestring.coords = [(-122.363965,37.824844,100), (-122.363747,37.824501,100)]\n",
    "linestring.altitudemode = simplekml.AltitudeMode.relativetoground\n",
    "linestring.extrude = 1\n",
    "\n",
    "# Create a linestring that will be extended to the ground but sloped from the ground up to 100m\n",
    "linestring = kml.newlinestring(name=\"A Sloped Line\")\n",
    "linestring.coords = [(-122.363604,37.825009,0), (-122.363331,37.824604,100)]\n",
    "linestring.altitudemode = simplekml.AltitudeMode.relativetoground\n",
    "linestring.extrude = 1\n",
    "\n",
    "# Save the KML\n",
    "# kml.save(os.path.splitext(__file__)[0] + \".kml\")\n",
    "kml.save(\"../kml/tut_linestring.kml\")"
   ],
   "metadata": {
    "collapsed": false,
    "pycharm": {
     "name": "#%%\n"
    }
   }
  },
  {
   "cell_type": "code",
   "execution_count": 37,
   "outputs": [
    {
     "name": "stdout",
     "output_type": "stream",
     "text": [
      "1766.691303757168\n",
      "1774.7710461013908\n",
      "14.690792202210424\n",
      "('21.299999999999997', '-157.8167')\n"
     ]
    }
   ],
   "source": [
    "from LatLon23 import LatLon, Latitude, Longitude\n",
    "palmyra = LatLon(Latitude(5.8833), Longitude(-162.0833)) # Location of Palmyra Atoll\n",
    "honolulu = LatLon(Latitude(21.3), Longitude(-157.8167)) # Location of Honolulu, HI\n",
    "distance = palmyra.distance(honolulu) # WGS84 distance in km\n",
    "print(distance)\n",
    "\n",
    "print(palmyra.distance(honolulu, ellipse = 'sphere')) # FAI distance in km\n",
    "\n",
    "initial_heading = palmyra.heading_initial(honolulu) # Heading from Palmyra to Honolulu on WGS84 ellipsoid\n",
    "print(initial_heading)\n",
    "\n",
    "hnl = palmyra.offset(initial_heading, distance) # Reconstruct Honolulu based on offset from Palmyra\n",
    "print(hnl.to_string('D')) # Coordinates of Honolulu"
   ],
   "metadata": {
    "collapsed": false,
    "pycharm": {
     "name": "#%%\n"
    }
   }
  },
  {
   "cell_type": "code",
   "execution_count": null,
   "outputs": [],
   "source": [
    "palmyra."
   ],
   "metadata": {
    "collapsed": false,
    "pycharm": {
     "name": "#%%\n"
    }
   }
  },
  {
   "cell_type": "code",
   "execution_count": null,
   "outputs": [],
   "source": [
    "import simplekml\n",
    "kml = simplekml.Kml()\n",
    "pnt = kml.newpoint(name='Kariotahi', coords=[(174.653884, -37.281465)])\n",
    "pnt.camera.latitude = -37.291465\n",
    "pnt.camera.longitude = 174.653884\n",
    "pnt.camera.altitude = 10000\n",
    "pnt.camera.tilt = 45\n",
    "pnt.camera.heading = 0\n",
    "pnt.camera.roll = 0\n",
    "pnt.camera.altitudemode = simplekml.AltitudeMode.relativetoground\n",
    "# pnt.save(\"../kml/Camera.kml\")\n",
    "kml.save(\"../kml/Camera.kml\")"
   ],
   "metadata": {
    "collapsed": false,
    "pycharm": {
     "name": "#%%\n"
    }
   }
  },
  {
   "cell_type": "code",
   "execution_count": 55,
   "outputs": [],
   "source": [
    "# moving around in km\n",
    "kml = simplekml.Kml(open=1)\n",
    "# Create a linestring with two points (ie. a line)\n",
    "linestring = kml.newlinestring(name=\"A Line\")\n",
    "lat = Latitude(-37.291465)\n",
    "lng = Longitude(-162.0833)\n",
    "Kariotahi = LatLon(lat, lng)\n",
    "# Create a linestring that will hover 100m above the ground that is extended to the ground\n",
    "linestring = kml.newlinestring(name=\"An Extended Line\")\n",
    "linestring.coords = [(-122.363965,37.824844,100), (-122.363747,37.824501,100)]\n",
    "linestring.altitudemode = simplekml.AltitudeMode.relativetoground\n",
    "linestring.extrude = 1\n",
    "pnt1 = Kariotahi.offset(0, 1)\n",
    "pnt2 = pnt1.offset(0, -1)"
   ],
   "metadata": {
    "collapsed": false,
    "pycharm": {
     "name": "#%%\n"
    }
   }
  },
  {
   "cell_type": "code",
   "execution_count": 60,
   "outputs": [
    {
     "name": "stdout",
     "output_type": "stream",
     "text": [
      "<LinearRing id=\"713\"><coordinates>0.0, 0.0, 0.0</coordinates></LinearRing>\n"
     ]
    }
   ],
   "source": [
    "import simplekml\n",
    "kml = simplekml.Kml()\n",
    "pol = kml.newpolygon()\n",
    "print(pol.outerboundaryis) # Shows that the outer boundary of a polygon is a linear ring\n",
    "pol.outerboundaryis.coords = [(0.0,0.0, 100), (1.0,1.0, 100), (2.0,1.0, 100)]\n",
    "pol.altitudemode = simplekml.AltitudeMode.relativetoground\n",
    "pol.extrude = 1\n",
    "kml.save(\"../kml/LinearRing.kml\")"
   ],
   "metadata": {
    "collapsed": false,
    "pycharm": {
     "name": "#%%\n"
    }
   }
  },
  {
   "cell_type": "code",
   "execution_count": 65,
   "outputs": [],
   "source": [
    "import simplekml\n",
    "kml = simplekml.Kml()\n",
    "pnt = kml.newpoint(name='Kariotahi', coords=[(174.653884, -37.281465)])\n",
    "ls = kml.newlinestring(name='A LineString')\n",
    "ls.coords = [(174.653884, -37.281465,100.0), (174.653884, -37.381465,100.0)]\n",
    "ls.extrude = 1\n",
    "ls.altitudemode = simplekml.AltitudeMode.relativetoground\n",
    "ls.style.linestyle.width = 2\n",
    "ls.style.linestyle.color = simplekml.Color.blue\n",
    "kml.save(\"../kml/LineString Styling.kml\")"
   ],
   "metadata": {
    "collapsed": false,
    "pycharm": {
     "name": "#%%\n"
    }
   }
  },
  {
   "cell_type": "code",
   "execution_count": 68,
   "outputs": [],
   "source": [
    "import simplekml\n",
    "kml = simplekml.Kml()\n",
    "pnt = kml.newpoint(name='Kariotahi', coords=[(174.653884, -37.281465)])\n",
    "pnt.style.labelstyle.color = simplekml.Color.red  # Make the text red\n",
    "pnt.style.labelstyle.scale = 5  # Make the text twice as big\n",
    "pnt.style.iconstyle.icon.href = 'http://maps.google.com/mapfiles/kml/shapes/placemark_circle.png'\n",
    "kml.save(\"../kml/Point Styling.kml\")"
   ],
   "metadata": {
    "collapsed": false,
    "pycharm": {
     "name": "#%%\n"
    }
   }
  },
  {
   "cell_type": "code",
   "execution_count": 69,
   "outputs": [],
   "source": [
    "import simplekml\n",
    "kml = simplekml.Kml()\n",
    "pol = kml.newpolygon(name='A Polygon')\n",
    "pol.outerboundaryis = [(18.333868,-34.038274), (18.370618,-34.034421),\n",
    "                       (18.350616,-34.051677),(18.333868,-34.038274)]\n",
    "pol.innerboundaryis = [(18.347171,-34.040177), (18.355741,-34.039730),\n",
    "                       (18.350467,-34.048388),(18.347171,-34.040177)]\n",
    "kml.save(\"../kml/Polygon.kml\")"
   ],
   "metadata": {
    "collapsed": false,
    "pycharm": {
     "name": "#%%\n"
    }
   }
  }
 ],
 "metadata": {
  "kernelspec": {
   "display_name": "Python 3",
   "language": "python",
   "name": "python3"
  },
  "language_info": {
   "codemirror_mode": {
    "name": "ipython",
    "version": 2
   },
   "file_extension": ".py",
   "mimetype": "text/x-python",
   "name": "python",
   "nbconvert_exporter": "python",
   "pygments_lexer": "ipython2",
   "version": "2.7.6"
  }
 },
 "nbformat": 4,
 "nbformat_minor": 0
}