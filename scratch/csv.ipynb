{
 "cells": [
  {
   "cell_type": "code",
   "execution_count": 2,
   "metadata": {
    "collapsed": true
   },
   "outputs": [],
   "source": [
    "import numpy as np\n",
    "import csv\n",
    "\n",
    "\n",
    "# field names\n",
    "fields = ['Name', 'Branch', 'Year', 'CGPA']\n",
    "\n",
    "# data rows of csv file\n",
    "rows = [ ['Nikhil', 'COE', '2', '9.0'],\n",
    "         ['Sanchit', 'COE', '2', '9.1'],\n",
    "         ['Aditya', 'IT', '2', '9.3'],\n",
    "         ['Sagar', 'SE', '1', '9.5'],\n",
    "         ['Prateek', 'MCE', '3', '7.8'],\n",
    "         ['Sahil', 'EP', '2', '9.1']]\n",
    "\n",
    "with open('GFG.csv', 'w') as f:\n",
    "\n",
    "    # using csv.writer method from CSV package\n",
    "    write = csv.writer(f)\n",
    "\n",
    "    write.writerow(fields)\n",
    "    write.writerows(rows)"
   ]
  },
  {
   "cell_type": "code",
   "execution_count": 41,
   "outputs": [],
   "source": [
    "pos = np.array([[  0.5,  50.4, 100.3, 150.2, 200.1, 250.,  299.9, 349.8, 399.7, 449.6, 499.5],\n",
    "                [ 83.,   83.,   83.,   83.,   83.,   83.,   83.,   83.,   83.,   83.,   83. ]])\n",
    "def writecsv(filename, pos):\n",
    "    with open(filename, 'w') as f:\n",
    "        write = csv.writer(f)\n",
    "        write.writerows([[filename]])\n",
    "        write.writerows(pos)\n",
    "\n",
    "writecsv('filename', pos)"
   ],
   "metadata": {
    "collapsed": false,
    "pycharm": {
     "name": "#%%\n"
    }
   }
  },
  {
   "cell_type": "code",
   "execution_count": 42,
   "outputs": [
    {
     "name": "stdout",
     "output_type": "stream",
     "text": [
      "['filename']\n",
      "['0.5', '50.4', '100.3', '150.2', '200.1', '250.0', '299.9', '349.8', '399.7', '449.6', '499.5']\n",
      "['83.0', '83.0', '83.0', '83.0', '83.0', '83.0', '83.0', '83.0', '83.0', '83.0', '83.0']\n"
     ]
    },
    {
     "data": {
      "text/plain": "[[0.5, 50.4, 100.3, 150.2, 200.1, 250.0, 299.9, 349.8, 399.7, 449.6, 499.5],\n [83.0, 83.0, 83.0, 83.0, 83.0, 83.0, 83.0, 83.0, 83.0, 83.0, 83.0]]"
     },
     "execution_count": 42,
     "metadata": {},
     "output_type": "execute_result"
    }
   ],
   "source": [
    "import csv\n",
    "def readcsv(filename):\n",
    "    with open(filename, 'r') as file:\n",
    "        reader = csv.reader(file)\n",
    "        lines = []\n",
    "        for row in reader:\n",
    "            lines.append(row)\n",
    "            print(row)\n",
    "    filename = lines[0][0]\n",
    "    lines = [[float(c) for c in r] for r in lines[1:] ]\n",
    "    return lines\n",
    "\n",
    "readcsv('filename')"
   ],
   "metadata": {
    "collapsed": false,
    "pycharm": {
     "name": "#%%\n"
    }
   }
  }
 ],
 "metadata": {
  "kernelspec": {
   "display_name": "Python 3",
   "language": "python",
   "name": "python3"
  },
  "language_info": {
   "codemirror_mode": {
    "name": "ipython",
    "version": 2
   },
   "file_extension": ".py",
   "mimetype": "text/x-python",
   "name": "python",
   "nbconvert_exporter": "python",
   "pygments_lexer": "ipython2",
   "version": "2.7.6"
  }
 },
 "nbformat": 4,
 "nbformat_minor": 0
}