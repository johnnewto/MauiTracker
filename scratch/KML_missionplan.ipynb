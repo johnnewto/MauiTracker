{
 "cells": [
  {
   "cell_type": "code",
   "metadata": {
    "collapsed": true,
    "pycharm": {
     "name": "#%%\n"
    }
   },
   "source": [
    "# https://simplekml.readthedocs.io/en/latest/\n"
   ],
   "execution_count": 1,
   "outputs": []
  },
  {
   "cell_type": "code",
   "execution_count": 2,
   "outputs": [],
   "source": [
    "import math\n",
    "%reload_ext autoreload\n",
    "%autoreload 2\n",
    "%matplotlib inline"
   ],
   "metadata": {
    "collapsed": false,
    "pycharm": {
     "name": "#%%\n"
    }
   }
  },
  {
   "cell_type": "code",
   "execution_count": 3,
   "outputs": [],
   "source": [
    "import simplekml as sk\n",
    "from polycircles import polycircles\n",
    "import subprocess\n",
    "from latlon import LatLon, Latitude, Longitude\n",
    "import math"
   ],
   "metadata": {
    "collapsed": false,
    "pycharm": {
     "name": "#%%\n"
    }
   }
  },
  {
   "cell_type": "code",
   "execution_count": 4,
   "outputs": [],
   "source": [
    "def set_color(colour):\n",
    "    \"\"\"color, icon_ref = set_color(colour)\"\"\"\n",
    "    if colour == 'blue':\n",
    "        color=sk.Color.blue\n",
    "        icon_ref = 'http://maps.google.com/mapfiles/kml/paddle/blu-blank.png'\n",
    "\n",
    "    if colour == 'lime':\n",
    "        color=sk.Color.lime\n",
    "        icon_ref = 'http://maps.google.com/mapfiles/kml/paddle/ltblu-diamond.png'\n",
    "    elif colour == 'purple':\n",
    "        color=sk.Color.purple\n",
    "        icon_ref = 'http://maps.google.com/mapfiles/kml/paddle/purple-diamond.png'\n",
    "    elif colour == 'red':\n",
    "        color=sk.Color.red\n",
    "        icon_ref = 'http://maps.google.com/mapfiles/kml/paddle/red-diamond.png'\n",
    "    elif colour == 'green':\n",
    "        color=sk.Color.green\n",
    "        icon_ref = 'http://maps.google.com/mapfiles/kml/paddle/grn-diamond.png'\n",
    "    else:\n",
    "        color=sk.Color.white\n",
    "        icon_ref = 'http://maps.google.com/mapfiles/kml/shapes/mechanic.png'\n",
    "    return color, icon_ref"
   ],
   "metadata": {
    "collapsed": false,
    "pycharm": {
     "name": "#%%\n"
    }
   }
  },
  {
   "cell_type": "code",
   "execution_count": 5,
   "outputs": [
    {
     "data": {
      "text/plain": "<simplekml.featgeom.Point at 0x7feb03fa95e0>"
     },
     "execution_count": 5,
     "metadata": {},
     "output_type": "execute_result"
    }
   ],
   "source": [
    "def kml_circle(name, kml, latitude=-37.280344, longitude=174.652676, altitude=120, radius=10000, number_of_vertices=60, label_at=0, colour='purple'):\n",
    "    polycircle = polycircles.Polycircle(latitude, longitude, radius, number_of_vertices)\n",
    "    coords = polycircle.to_kml()\n",
    "    # append_circle\n",
    "    coords = [(c[0], c[1], altitude) for c in coords]\n",
    "    # cir_kml = sk.Kml()\n",
    "    color, icon_ref = set_color(colour)\n",
    "    circle = kml.newlinestring(name=name)\n",
    "    circle.coords = coords\n",
    "    circle.style.polystyle.color = sk.Color.changealphaint(100, color)\n",
    "    circle.polystyle.outline = 0\n",
    "    circle.linestyle.color = sk.Color.changealphaint(200, color)\n",
    "    circle.linestyle.width = 2\n",
    "    circle.altitudemode = sk.AltitudeMode.relativetoground\n",
    "    circle.extrude = 1\n",
    "    pnt = kml.newpoint(name=name)\n",
    "    pnt.coords = [coords[label_at]]\n",
    "    pnt.style.labelstyle.color = color  # Make the text red\n",
    "    pnt.style.labelstyle.scale = 1\n",
    "    pnt.altitudemode = sk.AltitudeMode.relativetoground\n",
    "    pnt.style.iconstyle.icon.href = 'http://maps.google.com/mapfiles/kml/paddle/purple-diamond.png'\n",
    "\n",
    "kml = sk.Kml()\n",
    "kml_circle('C2 Link', kml, radius=30000, altitude=5000, label_at=50)\n",
    "kml.save(\"../kml/C2Link.kml\", format=0)\n",
    "\n",
    "kml.newpoint()"
   ],
   "metadata": {
    "collapsed": false,
    "pycharm": {
     "name": "#%%\n"
    }
   }
  },
  {
   "cell_type": "code",
   "execution_count": 9,
   "outputs": [
    {
     "name": "stdout",
     "output_type": "stream",
     "text": [
      "[(90, 0, 0), [90.0, 10.0], [30.0, 10.0], [-30.0, 10.0], [-90.0, 10.0], [-150.0, 10.0], [-210.0, 10.0], [-270.0, 10.0]]\n"
     ]
    },
    {
     "data": {
      "text/plain": "9.549296585513721"
     },
     "execution_count": 9,
     "metadata": {},
     "output_type": "execute_result"
    }
   ],
   "source": [
    "def append_circle(coords=None, radius=1, number_of_vertices=60, clockwise=True, semicircle=False):\n",
    "    if coords is None:\n",
    "        coords = [[0, 0, 0]]\n",
    "    if not clockwise:\n",
    "        clockwise = -1\n",
    "    if semicircle == True:\n",
    "        circumference = 1*math.pi*radius\n",
    "        degrees = 180.0\n",
    "    else:\n",
    "        circumference = 2*math.pi*radius\n",
    "        degrees = 360.0\n",
    "    segment = circumference/number_of_vertices\n",
    "    heading = coords[0][0]\n",
    "    for i in range(number_of_vertices+1):\n",
    "        degree = heading + (clockwise*degrees/number_of_vertices)*i\n",
    "        coords.append([degree, segment])\n",
    "    # coords.append(coords[0])\n",
    "    return coords\n",
    "\n",
    "print (append_circle([(90,0,0)], 60/(2*math.pi), 6, False))\n",
    "60/(2*math.pi)\n"
   ],
   "metadata": {
    "collapsed": false,
    "pycharm": {
     "name": "#%%\n"
    }
   }
  },
  {
   "cell_type": "code",
   "execution_count": 10,
   "outputs": [
    {
     "name": "stdout",
     "output_type": "stream",
     "text": [
      "Total Flightpath distance =  103.87905062299241\n"
     ]
    }
   ],
   "source": [
    "def kml_circle2(name, kml=None, coords=None, latitude=-37.280344, longitude=174.652676, radius=20, heading=0, altitude=500, label_at=None, colour='red'):\n",
    "    if kml is None:\n",
    "        kml = sk.Kml()\n",
    "    if coords is None:\n",
    "        coords = [[heading-90, 0, 0],]\n",
    "    coords = append_circle(coords, radius, number_of_vertices=60, clockwise=True, semicircle=True)\n",
    "    coords.append([heading-180, radius*2, 0])\n",
    "    coords = [[c[0], c[1], altitude] for c in coords]\n",
    "\n",
    "    color, icon_ref = set_color(colour)\n",
    "    # assert coords[0][:2] == [0,0], 'The first coord must be 0,0,0'\n",
    "    _coords = [None]*len(coords)\n",
    "    dist = 0\n",
    "    start = LatLon(Latitude(latitude), Longitude(longitude))\n",
    "    start = start.offset(heading-180, radius)\n",
    "    for i, c in enumerate(coords):\n",
    "        _coords[i] = [start.offset(c[0], c[1])]\n",
    "        dist += c[1]\n",
    "        start = _coords[i][0]\n",
    "    _coords = [(_c[0].lon.decimal_degree, _c[0].lat.decimal_degree, c[2]) for _c, c in zip(_coords, coords)]\n",
    "    if label_at is None:\n",
    "        label_at = len(_coords)//2\n",
    "    cir  = kml.newlinestring(name=name)\n",
    "    cir.coords = _coords\n",
    "    cir.style.polystyle.color = sk.Color.changealphaint(100, color)\n",
    "    cir.polystyle.outline = 0\n",
    "    cir.linestyle.color = sk.Color.changealphaint(200, color)\n",
    "    cir.linestyle.width = 3\n",
    "    cir.altitudemode = sk.AltitudeMode.relativetoground\n",
    "    cir.extrude = 1\n",
    "    pnt = kml.newpoint(name=name)\n",
    "    pnt.coords = [_coords[label_at]]\n",
    "    pnt.style.labelstyle.color = color # Make the text red\n",
    "    pnt.style.labelstyle.scale = 1\n",
    "    pnt.altitudemode = sk.AltitudeMode.relativetoground\n",
    "    pnt.style.iconstyle.icon.href = 'http://maps.google.com/mapfiles/kml/paddle/red-diamond.png'\n",
    "    return kml, dist\n",
    "\n",
    "kml, dist = kml_circle2('Circle Path', latitude=-37.280344, longitude=174.652676, coords=None,  heading=-23, label_at=-3,)\n",
    "print('Total Flightpath distance = ', dist )\n",
    "kml.save(\"../kml/circle.kml\", format=0)\n"
   ],
   "metadata": {
    "collapsed": false,
    "pycharm": {
     "name": "#%%\n"
    }
   }
  },
  {
   "cell_type": "code",
   "execution_count": 11,
   "outputs": [],
   "source": [
    "latitude=-37.291465\n",
    "longitude=174.653884\n"
   ],
   "metadata": {
    "collapsed": false,
    "pycharm": {
     "name": "#%%\n"
    }
   }
  },
  {
   "cell_type": "code",
   "execution_count": 12,
   "outputs": [
    {
     "name": "stdout",
     "output_type": "stream",
     "text": [
      "Total Flightpath distance =  449.56150383789753\n"
     ]
    }
   ],
   "source": [
    "def kml_flight_Path(name, kml=None, coords=None, latitude=-37.280344, longitude=174.652676, heading=0, scale=1, label_at=None, colour='green'):\n",
    "    if kml is None:\n",
    "        kml = sk.Kml()\n",
    "    if coords is None:\n",
    "        coords = [(0, 0, 0), (0, 1, 0), (-90, 1, 0), (180, 1, 0), (90, 1, 0), ]\n",
    "\n",
    "    assert coords[0][:2] == [0,0], 'The first coord must be 0,0'\n",
    "    _coords = [None]*len(coords)\n",
    "    color, icon_ref = set_color(colour)\n",
    "\n",
    "    dist = 0\n",
    "    start = LatLon(Latitude(latitude), Longitude(longitude))\n",
    "    for i, c in enumerate(coords):\n",
    "        _coords[i] = [start.offset(c[0]+heading, c[1]*scale)]\n",
    "        dist += c[1]*scale\n",
    "        start = _coords[i][0]\n",
    "    _coords = [(_c[0].lon.decimal_degree, _c[0].lat.decimal_degree, c[2]) for _c, c in zip(_coords, coords)]\n",
    "    if label_at is None:\n",
    "        label_at = len(_coords)//2\n",
    "    f_path  = kml.newlinestring(name=name)\n",
    "    f_path.coords = _coords\n",
    "    f_path.style.polystyle.color = sk.Color.changealphaint(100, color)\n",
    "    f_path.polystyle.outline = 0\n",
    "    f_path.linestyle.color = sk.Color.changealphaint(200, color)\n",
    "    f_path.linestyle.width = 3\n",
    "    f_path.altitudemode = sk.AltitudeMode.relativetoground\n",
    "    f_path.extrude = 1\n",
    "    pnt = kml.newpoint(name=name)\n",
    "    pnt.coords = [_coords[label_at]]\n",
    "    pnt.style.labelstyle.color = color # Make the text red\n",
    "    pnt.style.labelstyle.scale = 1\n",
    "    pnt.altitudemode = sk.AltitudeMode.relativetoground\n",
    "    pnt.style.iconstyle.icon.href = icon_ref\n",
    "    return kml, dist\n",
    "\n",
    "flight_path = [[0, 0],  [-90, 1], [0, 0]]\n",
    "flight_path = append_circle(flight_path, 1, 10, clockwise=False)\n",
    "flight_path += [[0, 10], [-90, 0.5], ]\n",
    "for i in range(10):\n",
    "    flight_path += [[180, 20], [-90, 0.5], [0, 20], [-90, 0.5],]\n",
    "flight_path += [[180, 10-0.1], [90, 0.5*20+0.25],[90, 1], ]\n",
    "\n",
    "flight_path = [ [f[0], f[1], 120] for f in flight_path]\n",
    "flight_path[0][2] = 0\n",
    "flight_path[-1][2] = 0\n",
    "\n",
    "kml, dist = kml_flight_Path('Flight Path', latitude=-37.280344, longitude=174.652676, coords=flight_path,  heading=-23, label_at=-3,colour='red')\n",
    "print('Total Flightpath distance = ', dist )\n",
    "kml.save(\"../kml/FlightPath2.kml\", format=0)"
   ],
   "metadata": {
    "collapsed": false,
    "pycharm": {
     "name": "#%%\n"
    }
   }
  },
  {
   "cell_type": "code",
   "execution_count": 13,
   "outputs": [],
   "source": [
    "def kml_launch_Area(name, kml=None, coords=None, latitude=-37.280344, longitude=174.652676, heading=0, scale=1, label_at=None):\n",
    "    if kml is None:\n",
    "        kml = sk.Kml()\n",
    "    if coords is None:\n",
    "        coords = [[0, 0, 50], [0, 0.75, 50], [-90, 1, 50], [180, 1, 50], [90, 1, 50], [0, 0.25, 50]]\n",
    "\n",
    "    assert coords[0][:2] == [0,0], 'The first coord must be 0,0,0'\n",
    "    _coords = [None]*len(coords)\n",
    "    color=sk.Color.yellow\n",
    "    dist = 0\n",
    "    start = LatLon(Latitude(latitude), Longitude(longitude))\n",
    "    for i, c in enumerate(coords):\n",
    "        _coords[i] = [start.offset(c[0]+heading, c[1]*scale)]\n",
    "        dist += c[1]*scale\n",
    "        start = _coords[i][0]\n",
    "    _coords = [(_c[0].lon.decimal_degree, _c[0].lat.decimal_degree, c[2]) for _c, c in zip(_coords, coords)]\n",
    "    if label_at is None:\n",
    "        label_at = len(_coords)//2\n",
    "    pol  = kml.newpolygon(name='')\n",
    "    pol.outerboundaryis = _coords\n",
    "    pol.style.polystyle.color = sk.Color.changealphaint(100, color)\n",
    "    pol.polystyle.outline = 0\n",
    "    pol.linestyle.color = sk.Color.changealphaint(200, color)\n",
    "    pol.linestyle.width = 3\n",
    "    pol.altitudemode = sk.AltitudeMode.relativetoground\n",
    "    pol.extrude = 1\n",
    "    pnt = kml.newpoint(name=name)\n",
    "    pnt.coords = [_coords[label_at]]\n",
    "    pnt.style.labelstyle.color = color # Make the text red\n",
    "    pnt.style.labelstyle.scale = 1\n",
    "    pnt.altitudemode = sk.AltitudeMode.relativetoground\n",
    "    pnt.style.iconstyle.icon.href = 'http://maps.google.com/mapfiles/kml/paddle/ylw-diamond.png'\n",
    "    return kml\n",
    "\n",
    "kml= kml_launch_Area('launch_area', latitude=-37.280344, longitude=174.652676,  heading=-23, scale=0.25, label_at=-2,)\n",
    "\n",
    "kml.save(\"../kml/LaunchArea2.kml\", format=0)"
   ],
   "metadata": {
    "collapsed": false,
    "pycharm": {
     "name": "#%%\n"
    }
   }
  },
  {
   "cell_type": "code",
   "execution_count": 14,
   "outputs": [],
   "source": [
    "def kml_Area(name, kml=None, coords=None, latitude=-37.280344, longitude=174.652676, heading=0, scale=1, label_at=None, colour='blue'):\n",
    "    if kml is None:\n",
    "        kml = sk.Kml()\n",
    "    if coords is None:\n",
    "        coords = [[-90, 0.85, 50], [0, 13, 50], [-90, 15, 50], [180, 26, 50], [90, 15, 50], [0, 15, 50]]\n",
    "\n",
    "    _coords = [None]*len(coords)\n",
    "\n",
    "    color, icon_ref = set_color(colour)\n",
    "    dist = 0\n",
    "    start = LatLon(Latitude(latitude), Longitude(longitude))\n",
    "    for i, c in enumerate(coords):\n",
    "        _coords[i] = [start.offset(c[0]+heading, c[1]*scale)]\n",
    "        dist += c[1]*scale\n",
    "        start = _coords[i][0]\n",
    "\n",
    "    _coords[-1] = _coords[0]\n",
    "    _coords = [(_c[0].lon.decimal_degree, _c[0].lat.decimal_degree, c[2]) for _c, c in zip(_coords, coords)]\n",
    "\n",
    "    if label_at is None:\n",
    "        label_at = len(_coords)//2\n",
    "    path  = kml.newlinestring(name=name)\n",
    "    path.coords = _coords\n",
    "    path.style.polystyle.color = sk.Color.changealphaint(100, color)\n",
    "    path.polystyle.outline = 0\n",
    "    path.linestyle.color = sk.Color.changealphaint(200, color)\n",
    "    path.linestyle.width = 3\n",
    "    path.altitudemode = sk.AltitudeMode.relativetoground\n",
    "    path.extrude = 1\n",
    "    pnt = kml.newpoint(name=name)\n",
    "    pnt.coords = [_coords[label_at]]\n",
    "    pnt.style.labelstyle.color = color # Make the text red\n",
    "    pnt.style.labelstyle.scale = 1\n",
    "    pnt.altitudemode = sk.AltitudeMode.relativetoground\n",
    "    pnt.style.iconstyle.icon.href = icon_ref\n",
    "    return kml"
   ],
   "metadata": {
    "collapsed": false,
    "pycharm": {
     "name": "#%%\n"
    }
   }
  },
  {
   "cell_type": "code",
   "execution_count": 15,
   "outputs": [
    {
     "name": "stdout",
     "output_type": "stream",
     "text": [
      "Total Flightpath distance =  452.16150383789756\n"
     ]
    }
   ],
   "source": [
    "latitude=-37.280344\n",
    "longitude=174.652676\n",
    "coords = [[-90, 0.85, 50], [0, 13, 50], [-90, 15, 50], [180, 26, 50], [90, 15, 50], [0, 15, 50]]\n",
    "kml= kml_Area('opertions_area', kml=None, coords=coords, latitude=latitude, longitude=longitude, heading=-23, scale=1, label_at=2, colour='blue')\n",
    "\n",
    "coords = [[-90, 0.7, 50], [0, 13.15, 50], [-90, 15.3, 50], [180, 26.3, 50], [90, 15.3, 50], [0, 15, 50]]\n",
    "kml= kml_Area('1-1 keepout area', kml=kml, coords=coords, latitude=latitude, longitude=longitude, heading=-23, scale=1, label_at=3, colour='red')\n",
    "kml= kml_launch_Area('launch_area', kml=kml, latitude=latitude, longitude=longitude, heading=-23, scale=0.25, label_at=-2,)\n",
    "kml_circle('C2 Link',  kml=kml, latitude=latitude, longitude=longitude, radius=30000, altitude=5000, label_at=50)\n",
    "\n",
    "flight_path = [[0, 0],  [-90, 1], [0, 0]]\n",
    "flight_path = append_circle(flight_path, 1, 10, clockwise=False)\n",
    "flight_path += [[0, 10], [-90, 0.5], ]\n",
    "for i in range(10):\n",
    "    flight_path += [[180, 20], [-90, 0.5], [0, 20], [-90, 0.5],]\n",
    "flight_path += [[180, 10.5], [90, 0.5*20+0.25],[90, 1], ]\n",
    "\n",
    "flight_path = [ [f[0], f[1], 120] for f in flight_path]\n",
    "flight_path[0][2] = 0\n",
    "flight_path[-1][2] = 0\n",
    "\n",
    "kml, dist = kml_flight_Path('Flight Path Offshore Wind', kml=kml, latitude=-37.280344, longitude=174.652676, coords=flight_path,  heading=-23, label_at=-3,)\n",
    "flight_path[1][1] = 2\n",
    "flight_path[-1][1] = 2\n",
    "\n",
    "kml, dist = kml_flight_Path('Flight Path Onshore Wind', kml=kml, latitude=-37.280344, longitude=174.652676, coords=flight_path,  heading=-23, label_at=-3,colour='lime')\n",
    "print('Total Flightpath distance = ', dist )\n",
    "kml.save(\"../kml/FlightPlan2.kml\", format=0)"
   ],
   "metadata": {
    "collapsed": false,
    "pycharm": {
     "name": "#%%\n"
    }
   }
  },
  {
   "cell_type": "code",
   "execution_count": 16,
   "outputs": [],
   "source": [
    "\n",
    "import simplekml\n",
    "kml = simplekml.Kml()\n",
    "pnt = kml.newpoint(name='Kariotahi', coords=[(174.653884, -37.281465)])\n",
    "pnt.camera.latitude = -37.291465\n",
    "pnt.camera.longitude = 174.653884\n",
    "pnt.camera.altitude = 10000\n",
    "pnt.camera.tilt = 45\n",
    "pnt.camera.heading = 0\n",
    "pnt.camera.roll = 0\n",
    "pnt.camera.altitudemode = simplekml.AltitudeMode.relativetoground\n",
    "# pnt.save(\"../kml/Camera.kml\")\n",
    "kml.save(\"../kml/Camera2.kml\")"
   ],
   "metadata": {
    "collapsed": false,
    "pycharm": {
     "name": "#%%\n"
    }
   }
  },
  {
   "cell_type": "code",
   "execution_count": 26,
   "outputs": [],
   "source": [],
   "metadata": {
    "collapsed": false,
    "pycharm": {
     "name": "#%%\n"
    }
   }
  }
 ],
 "metadata": {
  "kernelspec": {
   "display_name": "Python 3",
   "language": "python",
   "name": "python3"
  },
  "language_info": {
   "codemirror_mode": {
    "name": "ipython",
    "version": 2
   },
   "file_extension": ".py",
   "mimetype": "text/x-python",
   "name": "python",
   "nbconvert_exporter": "python",
   "pygments_lexer": "ipython2",
   "version": "2.7.6"
  }
 },
 "nbformat": 4,
 "nbformat_minor": 0
}